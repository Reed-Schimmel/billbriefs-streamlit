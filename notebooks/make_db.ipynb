{
 "cells": [
  {
   "attachments": {},
   "cell_type": "markdown",
   "metadata": {},
   "source": [
    "Copy `.streamlit` to `notebooks` for `st.secrets` to work."
   ]
  },
  {
   "cell_type": "code",
   "execution_count": 22,
   "metadata": {},
   "outputs": [
    {
     "name": "stdout",
     "output_type": "stream",
     "text": [
      "cp: cannot stat '../.streamlit': No such file or directory\n"
     ]
    }
   ],
   "source": [
    "import streamlit as st\n",
    "from congress import Congress\n",
    "from deta import Deta"
   ]
  },
  {
   "cell_type": "code",
   "execution_count": 16,
   "metadata": {},
   "outputs": [],
   "source": [
    "PROPUBLICA_API_KEY = st.secrets[\"PROPUBLICA_API_KEY\"];\n",
    "DETA_API_KEY = st.secrets[\"DETA_API_KEY\"];\n",
    "DETA_ID = st.secrets[\"DETA_ID\"];\n",
    "\n",
    "# Chamber\n",
    "SENATE = 'senate'\n",
    "HOUSE = 'house'\n",
    "\n",
    "congress = Congress(PROPUBLICA_API_KEY)"
   ]
  },
  {
   "attachments": {},
   "cell_type": "markdown",
   "metadata": {},
   "source": [
    "# How it works\n",
    "1. Get all passed bills\n",
    "2. For each passed bill, for each chamber, get the date of passage\n",
    "3. For each date and chamber, call vote by date\n",
    "4. For each ...\n",
    "\n",
    "DRAFT BELOW\n",
    "Rework voting record call\n",
    "Call get bills passed\n",
    "Call votes by date for the date for each chamber from the bills passed\n",
    "calls votes.get date per chamber and rollcall number, and session\n",
    "Returns list of members and how they voted\n",
    "Display what they voted on per bill\n"
   ]
  },
  {
   "attachments": {},
   "cell_type": "markdown",
   "metadata": {},
   "source": [
    "## 1. Get all passed bills"
   ]
  },
  {
   "cell_type": "code",
   "execution_count": 18,
   "metadata": {},
   "outputs": [],
   "source": [
    "congress_num = 117\n",
    "\n",
    "passed_bills = congress.bills.passed(chamber=SENATE, congress=congress_num)\n",
    "print(passed_bills.keys())"
   ]
  },
  {
   "cell_type": "code",
   "execution_count": null,
   "metadata": {},
   "outputs": [],
   "source": [
    "def idk(passed_bill):\n",
    "    house_date  = passed_bill['house_passage']\n",
    "    senate_date = passed_bill['senate_passage']\n"
   ]
  },
  {
   "cell_type": "code",
   "execution_count": 23,
   "metadata": {},
   "outputs": [
    {
     "data": {
      "text/plain": [
       "{'bill_id': 's5168-117',\n",
       " 'bill_slug': 's5168',\n",
       " 'bill_type': 's',\n",
       " 'number': 'S.5168',\n",
       " 'bill_uri': 'https://api.propublica.org/congress/v1/117/bills/s5168.json',\n",
       " 'title': 'A bill to amend the Immigration and Nationality Act to include aliens passing in transit through the United States to board a vessel on which the alien will perform ship-to-ship liquid cargo transfer operations within a class of nonimmigrant aliens, and for other purposes.',\n",
       " 'short_title': 'Energy Security and Lightering Independence Act of 2022',\n",
       " 'sponsor_title': '',\n",
       " 'sponsor_id': 'P000145',\n",
       " 'sponsor_name': 'Alex Padilla',\n",
       " 'sponsor_state': 'CA',\n",
       " 'sponsor_party': 'D',\n",
       " 'sponsor_uri': 'https://api.propublica.org/congress/v1/members/P000145.json',\n",
       " 'gpo_pdf_uri': None,\n",
       " 'congressdotgov_url': 'https://www.congress.gov/bill/117th-congress/senate-bill/5168',\n",
       " 'govtrack_url': 'https://www.govtrack.us/congress/bills/117/s5168',\n",
       " 'introduced_date': '2022-12-01',\n",
       " 'active': True,\n",
       " 'last_vote': '2022-12-21',\n",
       " 'house_passage': '2022-12-21',\n",
       " 'senate_passage': '2022-12-15',\n",
       " 'enacted': None,\n",
       " 'vetoed': None,\n",
       " 'cosponsors': 1,\n",
       " 'cosponsors_by_party': {'R': 1},\n",
       " 'committees': '',\n",
       " 'committee_codes': ['SSJU'],\n",
       " 'subcommittee_codes': [],\n",
       " 'primary_subject': '',\n",
       " 'summary': '',\n",
       " 'summary_short': '',\n",
       " 'latest_major_action_date': '2023-01-05',\n",
       " 'latest_major_action': 'Signed by President.'}"
      ]
     },
     "execution_count": 23,
     "metadata": {},
     "output_type": "execute_result"
    }
   ],
   "source": [
    "passed_bills['bills'][0]\n",
    "\n",
    "'house_passage'\n",
    "'senate_passage'"
   ]
  },
  {
   "cell_type": "code",
   "execution_count": null,
   "metadata": {},
   "outputs": [],
   "source": []
  },
  {
   "attachments": {},
   "cell_type": "markdown",
   "metadata": {},
   "source": [
    "## Step X: Build populate database in Deta"
   ]
  },
  {
   "cell_type": "markdown",
   "metadata": {},
   "source": []
  }
 ],
 "metadata": {
  "kernelspec": {
   "display_name": "billbriefs",
   "language": "python",
   "name": "python3"
  },
  "language_info": {
   "codemirror_mode": {
    "name": "ipython",
    "version": 3
   },
   "file_extension": ".py",
   "mimetype": "text/x-python",
   "name": "python",
   "nbconvert_exporter": "python",
   "pygments_lexer": "ipython3",
   "version": "3.10.9"
  },
  "orig_nbformat": 4,
  "vscode": {
   "interpreter": {
    "hash": "091fc4e982227ae3c003fe788eedf3c07b94d006ee3a14538f20f516ed802be9"
   }
  }
 },
 "nbformat": 4,
 "nbformat_minor": 2
}
