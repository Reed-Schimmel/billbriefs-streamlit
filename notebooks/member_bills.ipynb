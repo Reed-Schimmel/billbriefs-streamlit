{
 "cells": [
  {
   "cell_type": "code",
   "execution_count": 1,
   "metadata": {},
   "outputs": [],
   "source": [
    "import streamlit as st"
   ]
  },
  {
   "cell_type": "code",
   "execution_count": 3,
   "metadata": {},
   "outputs": [
    {
     "name": "stdout",
     "output_type": "stream",
     "text": [
      "Help on method container in module streamlit.delta_generator:\n",
      "\n",
      "container() -> 'DeltaGenerator' method of streamlit.delta_generator.DeltaGenerator instance\n",
      "    Insert a multi-element container.\n",
      "    \n",
      "    Inserts an invisible container into your app that can be used to hold\n",
      "    multiple elements. This allows you to, for example, insert multiple\n",
      "    elements into your app out of order.\n",
      "    \n",
      "    To add elements to the returned container, you can use \"with\" notation\n",
      "    (preferred) or just call methods directly on the returned object. See\n",
      "    examples below.\n",
      "    \n",
      "    Examples\n",
      "    --------\n",
      "    Inserting elements using \"with\" notation:\n",
      "    \n",
      "    >>> import streamlit as st\n",
      "    >>>\n",
      "    >>> with st.container():\n",
      "    ...    st.write(\"This is inside the container\")\n",
      "    ...\n",
      "    ...    # You can call any Streamlit command, including custom components:\n",
      "    ...    st.bar_chart(np.random.randn(50, 3))\n",
      "    ...\n",
      "    >>> st.write(\"This is outside the container\")\n",
      "    \n",
      "    .. output ::\n",
      "        https://doc-container1.streamlitapp.com/\n",
      "        height: 520px\n",
      "    \n",
      "    Inserting elements out of order:\n",
      "    \n",
      "    >>> import streamlit as st\n",
      "    >>>\n",
      "    >>> container = st.container()\n",
      "    >>> container.write(\"This is inside the container\")\n",
      "    >>> st.write(\"This is outside the container\")\n",
      "    >>>\n",
      "    >>> # Now insert some more in the container\n",
      "    >>> container.write(\"This is inside too\")\n",
      "    \n",
      "    .. output ::\n",
      "        https://doc-container2.streamlitapp.com/\n",
      "        height: 480px\n",
      "\n"
     ]
    }
   ],
   "source": [
    "help(st.container)"
   ]
  },
  {
   "cell_type": "code",
   "execution_count": null,
   "metadata": {},
   "outputs": [],
   "source": []
  }
 ],
 "metadata": {
  "kernelspec": {
   "display_name": "billbriefs",
   "language": "python",
   "name": "python3"
  },
  "language_info": {
   "codemirror_mode": {
    "name": "ipython",
    "version": 3
   },
   "file_extension": ".py",
   "mimetype": "text/x-python",
   "name": "python",
   "nbconvert_exporter": "python",
   "pygments_lexer": "ipython3",
   "version": "3.10.9"
  },
  "orig_nbformat": 4,
  "vscode": {
   "interpreter": {
    "hash": "583bcd7f1effaf3462eb988fd2f4f8d73aee4e9bcea9c32ef7f3aea99c4f4088"
   }
  }
 },
 "nbformat": 4,
 "nbformat_minor": 2
}
