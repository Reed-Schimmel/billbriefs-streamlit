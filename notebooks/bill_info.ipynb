{
 "cells": [
  {
   "cell_type": "code",
   "execution_count": 2,
   "metadata": {},
   "outputs": [],
   "source": [
    "from utils import RenderJSON, fetch_all_items\n",
    "\n",
    "import streamlit as st\n",
    "from congress import Congress\n",
    "\n",
    "SENATE = 'senate'\n",
    "HOUSE = 'house'\n",
    "BOTH = 'both'\n",
    "\n",
    "PROPUBLICA_API_KEY = st.secrets[\"PROPUBLICA_API_KEY\"];\n",
    "CONGRESS_API_KEY = st.secrets[\"CONGRESS_API_KEY\"];\n",
    "\n",
    "congress = Congress(PROPUBLICA_API_KEY)"
   ]
  },
  {
   "cell_type": "code",
   "execution_count": 60,
   "metadata": {},
   "outputs": [],
   "source": [
    "def validate_bill_id(bill_id=''):\n",
    "    pattern = r'^(hr|s|hjres|sjres|hconres|sconres|hres|sres)(\\d+)-(\\d+)$'\n",
    "    return bool(re.match(pattern, bill_id))"
   ]
  },
  {
   "cell_type": "code",
   "execution_count": 68,
   "metadata": {},
   "outputs": [
    {
     "data": {
      "text/plain": [
       "False"
      ]
     },
     "execution_count": 68,
     "metadata": {},
     "output_type": "execute_result"
    }
   ],
   "source": [
    "validate_bill_id(should_fail)"
   ]
  },
  {
   "cell_type": "code",
   "execution_count": 51,
   "metadata": {},
   "outputs": [
    {
     "name": "stdout",
     "output_type": "stream",
     "text": [
      "^(hr|s|hjres|sjres|hconres|sconres|hres|sres)(\\d+)-(\\d+)$\n",
      "works\n"
     ]
    }
   ],
   "source": [
    "import re\n",
    "should_fail = \"adjourn-118\"\n",
    "should_pass = \"hconres119-117\"\n",
    "\n",
    "BILL_TYPES = ['hr', 's', 'hjres', 'sjres', 'hconres', 'sconres', 'hres', 'sres']\n",
    "\n",
    "pattern = r'^(' + '|'.join(BILL_TYPES) + r')(\\d+)-(\\d+)$'\n",
    "print(pattern\n",
    ")\n",
    "\n",
    "if re.match(pattern, should_pass):\n",
    "    print('works')\n",
    "    # bill_type, bill_n, congress_number = re.split(pattern, should_pass)\n",
    "    # print(bill_type, bill_n, congress_number)\n",
    "if re.match(pattern, should_fail):\n",
    "    print(\"opps\")\n",
    "if re.match(pattern, \"hcores119-117\"):\n",
    "    print(\"opps2\")"
   ]
  },
  {
   "cell_type": "code",
   "execution_count": 52,
   "metadata": {},
   "outputs": [
    {
     "data": {
      "text/plain": [
       "True"
      ]
     },
     "execution_count": 52,
     "metadata": {},
     "output_type": "execute_result"
    }
   ],
   "source": [
    "pattern == r'^(hr|s|hjres|sjres|hconres|sconres|hres|sres)(\\d+)-(\\d+)$'"
   ]
  },
  {
   "cell_type": "code",
   "execution_count": 47,
   "metadata": {},
   "outputs": [
    {
     "data": {
      "text/plain": [
       "['', 'hconres', '119', '117', '']"
      ]
     },
     "execution_count": 47,
     "metadata": {},
     "output_type": "execute_result"
    }
   ],
   "source": [
    "re.split(pattern, should_pass)"
   ]
  },
  {
   "cell_type": "code",
   "execution_count": 3,
   "metadata": {},
   "outputs": [
    {
     "data": {
      "text/plain": [
       "['BASE_URI',\n",
       " '__class__',\n",
       " '__delattr__',\n",
       " '__dict__',\n",
       " '__dir__',\n",
       " '__doc__',\n",
       " '__eq__',\n",
       " '__format__',\n",
       " '__ge__',\n",
       " '__getattribute__',\n",
       " '__gt__',\n",
       " '__hash__',\n",
       " '__init__',\n",
       " '__init_subclass__',\n",
       " '__le__',\n",
       " '__lt__',\n",
       " '__module__',\n",
       " '__ne__',\n",
       " '__new__',\n",
       " '__reduce__',\n",
       " '__reduce_ex__',\n",
       " '__repr__',\n",
       " '__setattr__',\n",
       " '__sizeof__',\n",
       " '__str__',\n",
       " '__subclasshook__',\n",
       " '__weakref__',\n",
       " 'amendments',\n",
       " 'apikey',\n",
       " 'by_member',\n",
       " 'cosponsors',\n",
       " 'enacted',\n",
       " 'fetch',\n",
       " 'get',\n",
       " 'http',\n",
       " 'introduced',\n",
       " 'passed',\n",
       " 'recent',\n",
       " 'related',\n",
       " 'subjects',\n",
       " 'upcoming',\n",
       " 'updated',\n",
       " 'vetoed']"
      ]
     },
     "execution_count": 3,
     "metadata": {},
     "output_type": "execute_result"
    }
   ],
   "source": [
    "dir(congress.bills)"
   ]
  },
  {
   "cell_type": "code",
   "execution_count": 7,
   "metadata": {},
   "outputs": [
    {
     "data": {
      "text/html": [
       "<div id=\"84409269-5fd8-4720-9847-5481b81a94b1\" style=\"height: 600px; width:100%;\"></div>"
      ]
     },
     "metadata": {},
     "output_type": "display_data"
    },
    {
     "data": {
      "application/javascript": "\n        require([\"https://rawgit.com/caldwell/renderjson/master/renderjson.js\"], function() {\n        document.getElementById('84409269-5fd8-4720-9847-5481b81a94b1').appendChild(renderjson({\"bill_id\": \"sres21-118\", \"bill_slug\": \"sres21\", \"congress\": \"118\", \"bill\": \"S.RES.21\", \"bill_type\": \"sres\", \"number\": \"S.RES.21\", \"bill_uri\": \"https://api.propublica.org/congress/v1/118/bills/sres21.json\", \"title\": \"A resolution supporting the observation of National Trafficking and Modern Slavery Prevention Month during the period beginning on January 1, 2023, and ending on February 1, 2023, to raise awareness of, and opposition to, human trafficking and modern slavery.\", \"short_title\": \"A resolution supporting the observation of National Trafficking and Modern Slavery Prevention Month during the period beginning on January 1, 2023, and ending on February 1, 2023, to raise awareness of, and opposition to, human trafficking and modern slav\", \"sponsor_title\": \"Sen.\", \"sponsor\": \"Dianne Feinstein\", \"sponsor_id\": \"F000062\", \"sponsor_uri\": \"https://api.propublica.org/congress/v1/members/F000062.json\", \"sponsor_party\": \"D\", \"sponsor_state\": \"CA\", \"gpo_pdf_uri\": null, \"congressdotgov_url\": \"https://www.congress.gov/bill/118th-congress/senate-resolution/21\", \"govtrack_url\": \"https://www.govtrack.us/congress/bills/118/sres21\", \"introduced_date\": \"2023-02-01\", \"active\": true, \"last_vote\": \"2023-02-01\", \"house_passage\": null, \"senate_passage\": null, \"enacted\": null, \"vetoed\": null, \"cosponsors\": 12, \"cosponsors_by_party\": {\"R\": 4, \"D\": 8}, \"withdrawn_cosponsors\": 0, \"primary_subject\": \"\", \"committees\": \"\", \"committee_codes\": [], \"subcommittee_codes\": [], \"latest_major_action_date\": \"2023-02-01\", \"latest_major_action\": \"Submitted in the Senate, considered, and agreed to without amendment and with a preamble by Yea-Nay. 97 - 0. Record Vote Number: 4. (text: CR S208-209)\", \"house_passage_vote\": null, \"senate_passage_vote\": null, \"summary\": \"\", \"summary_short\": \"\", \"cbo_estimate_url\": null, \"versions\": [{\"status\": \"Agreed to Senate\", \"title\": \"ATS\", \"url\": \"https://www.govinfo.gov/content/pkg/BILLS-118sres21ats/xml/BILLS-118sres21ats.xml\", \"congressdotgov_url\": \"https://www.congress.gov/bill/118th-congress/senate-resolution/21/text/ats\"}], \"actions\": [{\"id\": 4, \"chamber\": \"Senate\", \"action_type\": \"Floor\", \"datetime\": \"2023-02-01\", \"description\": \"Submitted in the Senate, considered, and agreed to without amendment and with a preamble by Yea-Nay. 97 - 0. Record Vote Number: 4. (text: CR S208-209)\"}, {\"id\": 3, \"chamber\": \"Senate\", \"action_type\": \"Floor\", \"datetime\": \"2023-02-01\", \"description\": \"Measure laid before Senate by unanimous consent. (consideration: CR S184, S188)\"}, {\"id\": 2, \"chamber\": \"Senate\", \"action_type\": \"Floor\", \"datetime\": \"2023-02-01\", \"description\": \"Submitted in the Senate, considered, and agreed to without amendment and with a preamble by Yea-Nay. 97 - 0. Record Vote Number: 4.\"}, {\"id\": 1, \"chamber\": \"Senate\", \"action_type\": \"Floor\", \"datetime\": \"2023-02-01\", \"description\": \"Measure laid before Senate by unanimous consent.\"}], \"presidential_statements\": [], \"votes\": [{\"chamber\": \"Senate\", \"date\": \"2023-02-01\", \"time\": \"10:29:00\", \"roll_call\": \"4\", \"question\": \"On the Resolution\", \"result\": \"Resolution Agreed to\", \"total_yes\": 97, \"total_no\": 0, \"total_not_voting\": 3, \"api_url\": \"https://api.propublica.org/congress/v1/118/senate/sessions/1/votes/4.json\"}]}))\n        });\n        "
     },
     "metadata": {},
     "output_type": "display_data"
    }
   ],
   "source": [
    "bills_deets = congress.bills.get(bill_id='sres21', congress='118')\n",
    "RenderJSON(bills_deets)"
   ]
  },
  {
   "cell_type": "code",
   "execution_count": 9,
   "metadata": {},
   "outputs": [
    {
     "name": "stdout",
     "output_type": "stream",
     "text": [
      "sres21 118\n"
     ]
    }
   ],
   "source": [
    "a, b = \"sres21-118\".split('-')\n",
    "print(a,b)"
   ]
  },
  {
   "cell_type": "code",
   "execution_count": 28,
   "metadata": {},
   "outputs": [
    {
     "data": {
      "text/html": [
       "<div id=\"0dff7bc5-6b26-4654-bbfc-e2623a328b19\" style=\"height: 600px; width:100%;\"></div>"
      ]
     },
     "metadata": {},
     "output_type": "display_data"
    },
    {
     "data": {
      "application/javascript": "\n        require([\"https://rawgit.com/caldwell/renderjson/master/renderjson.js\"], function() {\n        document.getElementById('0dff7bc5-6b26-4654-bbfc-e2623a328b19').appendChild(renderjson({\"bill_id\": \"sres21-118\", \"bill_slug\": \"sres21\", \"congress\": \"118\", \"bill\": \"S.RES.21\", \"bill_type\": \"sres\", \"number\": \"S.RES.21\", \"bill_uri\": \"https://api.propublica.org/congress/v1/118/bills/sres21.json\", \"title\": \"A resolution supporting the observation of National Trafficking and Modern Slavery Prevention Month during the period beginning on January 1, 2023, and ending on February 1, 2023, to raise awareness of, and opposition to, human trafficking and modern slavery.\", \"short_title\": \"A resolution supporting the observation of National Trafficking and Modern Slavery Prevention Month during the period beginning on January 1, 2023, and ending on February 1, 2023, to raise awareness of, and opposition to, human trafficking and modern slav\", \"sponsor_title\": \"Sen.\", \"sponsor\": \"Dianne Feinstein\", \"sponsor_id\": \"F000062\", \"sponsor_uri\": \"https://api.propublica.org/congress/v1/members/F000062.json\", \"sponsor_party\": \"D\", \"sponsor_state\": \"CA\", \"gpo_pdf_uri\": null, \"congressdotgov_url\": \"https://www.congress.gov/bill/118th-congress/senate-resolution/21\", \"govtrack_url\": \"https://www.govtrack.us/congress/bills/118/sres21\", \"introduced_date\": \"2023-02-01\", \"active\": true, \"last_vote\": \"2023-02-01\", \"house_passage\": null, \"senate_passage\": null, \"enacted\": null, \"vetoed\": null, \"cosponsors\": 12, \"cosponsors_by_party\": {\"R\": 4, \"D\": 8}, \"withdrawn_cosponsors\": 0, \"primary_subject\": \"\", \"committees\": \"\", \"committee_codes\": [], \"subcommittee_codes\": [], \"latest_major_action_date\": \"2023-02-01\", \"latest_major_action\": \"Submitted in the Senate, considered, and agreed to without amendment and with a preamble by Yea-Nay. 97 - 0. Record Vote Number: 4. (text: CR S208-209)\", \"house_passage_vote\": null, \"senate_passage_vote\": null, \"summary\": \"\", \"summary_short\": \"\", \"cbo_estimate_url\": null, \"versions\": [{\"status\": \"Agreed to Senate\", \"title\": \"ATS\", \"url\": \"https://www.govinfo.gov/content/pkg/BILLS-118sres21ats/xml/BILLS-118sres21ats.xml\", \"congressdotgov_url\": \"https://www.congress.gov/bill/118th-congress/senate-resolution/21/text/ats\"}], \"actions\": [{\"id\": 4, \"chamber\": \"Senate\", \"action_type\": \"Floor\", \"datetime\": \"2023-02-01\", \"description\": \"Submitted in the Senate, considered, and agreed to without amendment and with a preamble by Yea-Nay. 97 - 0. Record Vote Number: 4. (text: CR S208-209)\"}, {\"id\": 3, \"chamber\": \"Senate\", \"action_type\": \"Floor\", \"datetime\": \"2023-02-01\", \"description\": \"Measure laid before Senate by unanimous consent. (consideration: CR S184, S188)\"}, {\"id\": 2, \"chamber\": \"Senate\", \"action_type\": \"Floor\", \"datetime\": \"2023-02-01\", \"description\": \"Submitted in the Senate, considered, and agreed to without amendment and with a preamble by Yea-Nay. 97 - 0. Record Vote Number: 4.\"}, {\"id\": 1, \"chamber\": \"Senate\", \"action_type\": \"Floor\", \"datetime\": \"2023-02-01\", \"description\": \"Measure laid before Senate by unanimous consent.\"}], \"presidential_statements\": [], \"votes\": [{\"chamber\": \"Senate\", \"date\": \"2023-02-01\", \"time\": \"10:29:00\", \"roll_call\": \"4\", \"question\": \"On the Resolution\", \"result\": \"Resolution Agreed to\", \"total_yes\": 97, \"total_no\": 0, \"total_not_voting\": 3, \"api_url\": \"https://api.propublica.org/congress/v1/118/senate/sessions/1/votes/4.json\"}]}))\n        });\n        "
     },
     "metadata": {},
     "output_type": "display_data"
    }
   ],
   "source": [
    "def get_bill_deets(bill_id):\n",
    "    bill, congress_n = bill_id.split('-')\n",
    "\n",
    "    return Congress(PROPUBLICA_API_KEY).bills.get(bill, congress_n)\n",
    "\n",
    "RenderJSON(get_bill_deets(\"sres21-118\"))"
   ]
  },
  {
   "cell_type": "code",
   "execution_count": 8,
   "metadata": {},
   "outputs": [
    {
     "data": {
      "text/html": [
       "<div id=\"822d5458-f1bb-4e1f-98ac-82b0d3fdbac8\" style=\"height: 600px; width:100%;\"></div>"
      ]
     },
     "metadata": {},
     "output_type": "display_data"
    },
    {
     "data": {
      "application/javascript": "\n        require([\"https://rawgit.com/caldwell/renderjson/master/renderjson.js\"], function() {\n        document.getElementById('822d5458-f1bb-4e1f-98ac-82b0d3fdbac8').appendChild(renderjson({\"bill_id\": \"hr1123-118\", \"bill_slug\": \"hr1123\", \"congress\": \"118\", \"bill\": \"H.R.1123\", \"bill_type\": \"hr\", \"number\": \"H.R.1123\", \"bill_uri\": \"https://api.propublica.org/congress/v1/118/bills/hr1123.json\", \"title\": \"To direct the Assistant Secretary of Commerce for Communications and Information to submit to Congress a report examining the cybersecurity of mobile service networks, and for other purposes.\", \"short_title\": \"Understanding Cybersecurity of Mobile Networks Act\", \"sponsor_title\": \"Rep.\", \"sponsor\": \"Anna G. Eshoo\", \"sponsor_id\": \"E000215\", \"sponsor_uri\": \"https://api.propublica.org/congress/v1/members/E000215.json\", \"sponsor_party\": \"D\", \"sponsor_state\": \"CA\", \"gpo_pdf_uri\": null, \"congressdotgov_url\": \"https://www.congress.gov/bill/118th-congress/house-bill/1123\", \"govtrack_url\": \"https://www.govtrack.us/congress/bills/118/hr1123\", \"introduced_date\": \"2023-02-21\", \"active\": true, \"last_vote\": \"2023-03-07\", \"house_passage\": \"2023-03-07\", \"senate_passage\": null, \"enacted\": null, \"vetoed\": null, \"cosponsors\": 1, \"cosponsors_by_party\": {\"R\": 1}, \"withdrawn_cosponsors\": 0, \"primary_subject\": \"\", \"committees\": \"\", \"committee_codes\": [\"SSCM\", \"HSIF\"], \"subcommittee_codes\": [], \"latest_major_action_date\": \"2023-03-08\", \"latest_major_action\": \"Received in the Senate and Read twice and referred to the Committee on Commerce, Science, and Transportation.\", \"house_passage_vote\": \"2023-03-07\", \"senate_passage_vote\": null, \"summary\": \"\", \"summary_short\": \"\", \"cbo_estimate_url\": null, \"versions\": [{\"status\": \"Introduced in House\", \"title\": \"IH\", \"url\": \"https://www.govinfo.gov/content/pkg/BILLS-118hr1123ih/xml/BILLS-118hr1123ih.xml\", \"congressdotgov_url\": \"https://www.congress.gov/bill/118th-congress/house-bill/1123/text/ih\"}], \"actions\": [{\"id\": 12, \"chamber\": \"Senate\", \"action_type\": \"IntroReferral\", \"datetime\": \"2023-03-08\", \"description\": \"Received in the Senate and Read twice and referred to the Committee on Commerce, Science, and Transportation.\"}, {\"id\": 11, \"chamber\": \"House\", \"action_type\": \"Floor\", \"datetime\": \"2023-03-07\", \"description\": \"Motion to reconsider laid on the table Agreed to without objection.\"}, {\"id\": 10, \"chamber\": \"House\", \"action_type\": \"Floor\", \"datetime\": \"2023-03-07\", \"description\": \"On motion to suspend the rules and pass the bill, as amended Agreed to by the Yeas and Nays: (2/3 required): 393 - 22 (Roll no. 133).\"}, {\"id\": 9, \"chamber\": \"House\", \"action_type\": \"Floor\", \"datetime\": \"2023-03-07\", \"description\": \"Considered as unfinished business.\"}, {\"id\": 8, \"chamber\": \"House\", \"action_type\": \"Floor\", \"datetime\": \"2023-03-07\", \"description\": \"At the conclusion of debate, the Yeas and Nays were demanded and ordered. Pursuant to the provisions of clause 8, rule XX, the Chair announced that further proceedings on the motion would be postponed.\"}, {\"id\": 7, \"chamber\": \"House\", \"action_type\": \"Floor\", \"datetime\": \"2023-03-07\", \"description\": \"DEBATE - The House proceeded with forty minutes of debate on H.R. 1123.\"}, {\"id\": 6, \"chamber\": \"House\", \"action_type\": \"Floor\", \"datetime\": \"2023-03-07\", \"description\": \"Considered under suspension of the rules.\"}, {\"id\": 5, \"chamber\": \"House\", \"action_type\": \"Floor\", \"datetime\": \"2023-03-07\", \"description\": \"Mr. Latta moved to suspend the rules and pass the bill, as amended.\"}, {\"id\": 4, \"chamber\": \"House\", \"action_type\": \"Floor\", \"datetime\": \"2023-03-07\", \"description\": \"On motion to suspend the rules and pass the bill, as amended Agreed to by the Yeas and Nays: (2/3 required): 393 - 22 (Roll no. 133). (text: CR H1128-1129)\"}, {\"id\": 3, \"chamber\": \"House\", \"action_type\": \"Floor\", \"datetime\": \"2023-03-07\", \"description\": \"Considered as unfinished business. (consideration: CR H1132)\"}, {\"id\": 2, \"chamber\": \"House\", \"action_type\": \"Floor\", \"datetime\": \"2023-03-07\", \"description\": \"Considered under suspension of the rules. (consideration: CR H1128-1130)\"}, {\"id\": 1, \"chamber\": \"House\", \"action_type\": \"IntroReferral\", \"datetime\": \"2023-02-21\", \"description\": \"Referred to the House Committee on Energy and Commerce.\"}], \"presidential_statements\": [], \"votes\": [{\"chamber\": \"House\", \"date\": \"2023-03-07\", \"time\": \"14:16:00\", \"roll_call\": \"133\", \"question\": \"On Motion to Suspend the Rules and Pass, as Amended\", \"result\": \"Passed\", \"total_yes\": 393, \"total_no\": 22, \"total_not_voting\": 20, \"api_url\": \"https://api.propublica.org/congress/v1/118/house/sessions/1/votes/133.json\"}]}))\n        });\n        "
     },
     "metadata": {},
     "output_type": "display_data"
    }
   ],
   "source": [
    "bills_deets = congress.bills.get(bill_id='hr1123', congress='118')\n",
    "RenderJSON(bills_deets)"
   ]
  },
  {
   "attachments": {},
   "cell_type": "markdown",
   "metadata": {},
   "source": [
    "Use raw congress API\n",
    "- ref book https://colab.research.google.com/drive/1xdYRN16cOvYAOFayvTqc0n4N43ItA_dU#scrollTo=0HXdQeCT5Mt4\n",
    "- docs https://api.congress.gov/#/bill/bill_summaries"
   ]
  },
  {
   "cell_type": "code",
   "execution_count": 5,
   "metadata": {},
   "outputs": [],
   "source": [
    "import requests\n",
    "import re"
   ]
  },
  {
   "cell_type": "code",
   "execution_count": 20,
   "metadata": {},
   "outputs": [
    {
     "name": "stdout",
     "output_type": "stream",
     "text": [
      "True\n"
     ]
    },
    {
     "data": {
      "text/html": [
       "<div id=\"f3ad3522-d6f9-4c29-bffb-6eed8ab0be92\" style=\"height: 600px; width:100%;\"></div>"
      ]
     },
     "metadata": {},
     "output_type": "display_data"
    },
    {
     "data": {
      "application/javascript": "\n        require([\"https://rawgit.com/caldwell/renderjson/master/renderjson.js\"], function() {\n        document.getElementById('f3ad3522-d6f9-4c29-bffb-6eed8ab0be92').appendChild(renderjson({\"pagination\": {\"count\": 1}, \"request\": {\"billNumber\": \"21\", \"billType\": \"sres\", \"billUrl\": \"https://api.data.gov/congress/v3/bill/118/sres/21?format=json\", \"congress\": \"118\", \"contentType\": \"application/json\", \"format\": \"json\"}, \"summaries\": [{\"actionDate\": \"2023-02-01\", \"actionDesc\": \"Introduced in Senate\", \"text\": \" <p>This resolution expresses support for observing National Trafficking and Modern Slavery Prevention Month during the period of January 1-February 1, 2023. </p>\", \"updateDate\": \"2023-02-08T11:21:47Z\", \"versionCode\": \"00\"}]}))\n        });\n        "
     },
     "metadata": {},
     "output_type": "display_data"
    }
   ],
   "source": [
    "BILL_TYPES = ['hr', 's', 'hjres', 'sjres', 'hconres', 'sconres', 'hres', 'sres']\n",
    "\n",
    "\n",
    "bill_id = \"sres21-118\"\n",
    "bill, congress = bill_id.split('-')\n",
    "\n",
    "bill_type, bill_n = re.split('(\\d+)', bill)[:2]\n",
    "print(bill_type in bill_types)\n",
    "# print\n",
    "url = f\"https://api.congress.gov/v3/bill/{congress}/{bill_type}/{bill_n}/summaries?api_key={CONGRESS_API_KEY}\"\n",
    "response = requests.get(url)\n",
    "if response.status_code == 200:\n",
    "    json_data = response.json()\n",
    "\n",
    "RenderJSON(json_data)\n"
   ]
  },
  {
   "cell_type": "code",
   "execution_count": 34,
   "metadata": {},
   "outputs": [],
   "source": [
    "def get_bill_summaries_official(bill_id):\n",
    "    '''Takes ProPublica bill_id ex \"sres21-118\"\n",
    "    https://api.congress.gov/#/bill/bill_summaries\n",
    "    '''\n",
    "    bill_types = ['hr', 's', 'hjres', 'sjres', 'hconres', 'sconres', 'hres', 'sres']\n",
    "    bill, congress = bill_id.split('-')\n",
    "    bill_type, bill_n = re.split('(\\d+)', bill)[:2]\n",
    "    assert(bill_type in bill_types)\n",
    "    url = f\"https://api.congress.gov/v3/bill/{congress}/{bill_type}/{bill_n}/summaries?api_key={CONGRESS_API_KEY}\"\n",
    "    response = requests.get(url)\n",
    "    if response.status_code == 200:\n",
    "        json_data = response.json()\n",
    "    else:\n",
    "        print(\"Error retrieving bill summaries. Status code:\", response.status_code)\n",
    "    return json_data"
   ]
  },
  {
   "cell_type": "code",
   "execution_count": 23,
   "metadata": {},
   "outputs": [],
   "source": [
    "bills = [\n",
    "    \"hr5129-117\",\n",
    "    \"hres1119-117\",\n",
    "    \"hr6386-117\"\n",
    "]"
   ]
  },
  {
   "cell_type": "code",
   "execution_count": 24,
   "metadata": {},
   "outputs": [
    {
     "data": {
      "text/plain": [
       "[['hr', '5129'], ['hres', '1119'], ['hr', '6386']]"
      ]
     },
     "execution_count": 24,
     "metadata": {},
     "output_type": "execute_result"
    }
   ],
   "source": [
    "[re.split('(\\d+)', bill)[:2] for bill in bills]"
   ]
  },
  {
   "cell_type": "code",
   "execution_count": 35,
   "metadata": {},
   "outputs": [],
   "source": [
    "bill_sums = [get_bill_summaries_official(bill) for bill in bills]\n"
   ]
  },
  {
   "cell_type": "code",
   "execution_count": 27,
   "metadata": {},
   "outputs": [
    {
     "data": {
      "text/html": [
       "<div id=\"f033271c-5a48-41df-9306-3a3a3760c00a\" style=\"height: 600px; width:100%;\"></div>"
      ]
     },
     "metadata": {},
     "output_type": "display_data"
    },
    {
     "data": {
      "application/javascript": "\n        require([\"https://rawgit.com/caldwell/renderjson/master/renderjson.js\"], function() {\n        document.getElementById('f033271c-5a48-41df-9306-3a3a3760c00a').appendChild(renderjson({\"pagination\": {\"count\": 3}, \"request\": {\"billNumber\": \"5129\", \"billType\": \"hr\", \"billUrl\": \"https://api.data.gov/congress/v3/bill/117/hr/5129?format=json\", \"congress\": \"117\", \"contentType\": \"application/json\", \"format\": \"json\"}, \"summaries\": [{\"actionDate\": \"2021-08-31\", \"actionDesc\": \"Introduced in House\", \"text\": \" <p><b>Community Services Block Grant Modernization Act of 2021</b></p> <p>This bill reauthorizes the Community Services Block Grant program through FY2031 and otherwise modifies the program. The program supports various antipoverty activities, primarily through formula-based allotments to states, Indian tribes, and territories.</p> <p>In particular, the bill makes changes to the program's administration and leadership;&nbsp;performance measurement; and allotments to states and territories.</p> <p>The bill also expands eligibility for services and activities funded by the program to 200% of the federal poverty line (FPL). Under current law, eligibility is generally set at the FPL.</p>\", \"updateDate\": \"2022-05-16T16:40:42Z\", \"versionCode\": \"00\"}, {\"actionDate\": \"2022-05-06\", \"actionDesc\": \"Reported to House\", \"text\": \" <p><b>Community Services Block Grant Modernization Act of 2022</b></p> <p>This bill reauthorizes the Community Services Block Grant program through FY2032 and otherwise modifies the program. The program supports various antipoverty activities, primarily through formula-based allotments to states, Indian tribes, and territories.</p> <p>In particular, the bill makes changes to the program's administration and leadership; performance measurement; and allotments to states and territories.</p> <p>The bill also expands eligibility for services and activities funded by the program to 200% of the federal poverty line (FPL). Under current law, eligibility is generally set at the FPL.</p>\", \"updateDate\": \"2022-05-20T23:13:49Z\", \"versionCode\": \"07\"}, {\"actionDate\": \"2022-05-13\", \"actionDesc\": \"Passed House\", \"text\": \" <p><b>Community Services Block Grant Modernization Act of 2022</b></p> <p>This bill reauthorizes the Community Services Block Grant program through FY2032 and otherwise modifies the program. The program supports various antipoverty activities, primarily through formula-based allotments to states, Indian tribes, and territories.</p> <p>In particular, the bill makes changes to the program's administration and leadership; performance measurement; and allotments to states and territories.</p> <p>The bill also expands eligibility for services and activities funded by the program to 200% of the federal poverty line (FPL). Under current law, eligibility is generally set at the FPL.</p>\", \"updateDate\": \"2022-05-27T13:41:23Z\", \"versionCode\": \"53\"}]}))\n        });\n        "
     },
     "metadata": {},
     "output_type": "display_data"
    }
   ],
   "source": [
    "RenderJSON(bill_sums[0])"
   ]
  },
  {
   "attachments": {},
   "cell_type": "markdown",
   "metadata": {},
   "source": [
    "## Compare ProPub to Official"
   ]
  },
  {
   "cell_type": "code",
   "execution_count": null,
   "metadata": {},
   "outputs": [],
   "source": [
    "bill_id = \"hr5129-117\"\n"
   ]
  },
  {
   "cell_type": "code",
   "execution_count": 32,
   "metadata": {},
   "outputs": [
    {
     "data": {
      "text/html": [
       "<div id=\"1dd9ec72-4668-4c3a-b649-aa13550c8cf8\" style=\"height: 600px; width:100%;\"></div>"
      ]
     },
     "metadata": {},
     "output_type": "display_data"
    },
    {
     "data": {
      "application/javascript": "\n        require([\"https://rawgit.com/caldwell/renderjson/master/renderjson.js\"], function() {\n        document.getElementById('1dd9ec72-4668-4c3a-b649-aa13550c8cf8').appendChild(renderjson({\"pagination\": {\"count\": 1}, \"request\": {\"billNumber\": \"21\", \"billType\": \"sres\", \"billUrl\": \"https://api.data.gov/congress/v3/bill/118/sres/21?format=json\", \"congress\": \"118\", \"contentType\": \"application/json\", \"format\": \"json\"}, \"summaries\": [{\"actionDate\": \"2023-02-01\", \"actionDesc\": \"Introduced in Senate\", \"text\": \" <p>This resolution expresses support for observing National Trafficking and Modern Slavery Prevention Month during the period of January 1-February 1, 2023. </p>\", \"updateDate\": \"2023-02-08T11:21:47Z\", \"versionCode\": \"00\"}]}))\n        });\n        "
     },
     "metadata": {},
     "output_type": "display_data"
    }
   ],
   "source": [
    "# Official\n",
    "RenderJSON(get_bill_summaries_official(bill_id))"
   ]
  },
  {
   "cell_type": "code",
   "execution_count": 31,
   "metadata": {},
   "outputs": [
    {
     "data": {
      "text/html": [
       "<div id=\"e6018159-5c68-4f6f-8854-34c054644397\" style=\"height: 600px; width:100%;\"></div>"
      ]
     },
     "metadata": {},
     "output_type": "display_data"
    },
    {
     "data": {
      "application/javascript": "\n        require([\"https://rawgit.com/caldwell/renderjson/master/renderjson.js\"], function() {\n        document.getElementById('e6018159-5c68-4f6f-8854-34c054644397').appendChild(renderjson({\"bill_id\": \"sres21-118\", \"bill_slug\": \"sres21\", \"congress\": \"118\", \"bill\": \"S.RES.21\", \"bill_type\": \"sres\", \"number\": \"S.RES.21\", \"bill_uri\": \"https://api.propublica.org/congress/v1/118/bills/sres21.json\", \"title\": \"A resolution supporting the observation of National Trafficking and Modern Slavery Prevention Month during the period beginning on January 1, 2023, and ending on February 1, 2023, to raise awareness of, and opposition to, human trafficking and modern slavery.\", \"short_title\": \"A resolution supporting the observation of National Trafficking and Modern Slavery Prevention Month during the period beginning on January 1, 2023, and ending on February 1, 2023, to raise awareness of, and opposition to, human trafficking and modern slav\", \"sponsor_title\": \"Sen.\", \"sponsor\": \"Dianne Feinstein\", \"sponsor_id\": \"F000062\", \"sponsor_uri\": \"https://api.propublica.org/congress/v1/members/F000062.json\", \"sponsor_party\": \"D\", \"sponsor_state\": \"CA\", \"gpo_pdf_uri\": null, \"congressdotgov_url\": \"https://www.congress.gov/bill/118th-congress/senate-resolution/21\", \"govtrack_url\": \"https://www.govtrack.us/congress/bills/118/sres21\", \"introduced_date\": \"2023-02-01\", \"active\": true, \"last_vote\": \"2023-02-01\", \"house_passage\": null, \"senate_passage\": null, \"enacted\": null, \"vetoed\": null, \"cosponsors\": 12, \"cosponsors_by_party\": {\"R\": 4, \"D\": 8}, \"withdrawn_cosponsors\": 0, \"primary_subject\": \"\", \"committees\": \"\", \"committee_codes\": [], \"subcommittee_codes\": [], \"latest_major_action_date\": \"2023-02-01\", \"latest_major_action\": \"Submitted in the Senate, considered, and agreed to without amendment and with a preamble by Yea-Nay. 97 - 0. Record Vote Number: 4. (text: CR S208-209)\", \"house_passage_vote\": null, \"senate_passage_vote\": null, \"summary\": \"\", \"summary_short\": \"\", \"cbo_estimate_url\": null, \"versions\": [{\"status\": \"Agreed to Senate\", \"title\": \"ATS\", \"url\": \"https://www.govinfo.gov/content/pkg/BILLS-118sres21ats/xml/BILLS-118sres21ats.xml\", \"congressdotgov_url\": \"https://www.congress.gov/bill/118th-congress/senate-resolution/21/text/ats\"}], \"actions\": [{\"id\": 4, \"chamber\": \"Senate\", \"action_type\": \"Floor\", \"datetime\": \"2023-02-01\", \"description\": \"Submitted in the Senate, considered, and agreed to without amendment and with a preamble by Yea-Nay. 97 - 0. Record Vote Number: 4. (text: CR S208-209)\"}, {\"id\": 3, \"chamber\": \"Senate\", \"action_type\": \"Floor\", \"datetime\": \"2023-02-01\", \"description\": \"Measure laid before Senate by unanimous consent. (consideration: CR S184, S188)\"}, {\"id\": 2, \"chamber\": \"Senate\", \"action_type\": \"Floor\", \"datetime\": \"2023-02-01\", \"description\": \"Submitted in the Senate, considered, and agreed to without amendment and with a preamble by Yea-Nay. 97 - 0. Record Vote Number: 4.\"}, {\"id\": 1, \"chamber\": \"Senate\", \"action_type\": \"Floor\", \"datetime\": \"2023-02-01\", \"description\": \"Measure laid before Senate by unanimous consent.\"}], \"presidential_statements\": [], \"votes\": [{\"chamber\": \"Senate\", \"date\": \"2023-02-01\", \"time\": \"10:29:00\", \"roll_call\": \"4\", \"question\": \"On the Resolution\", \"result\": \"Resolution Agreed to\", \"total_yes\": 97, \"total_no\": 0, \"total_not_voting\": 3, \"api_url\": \"https://api.propublica.org/congress/v1/118/senate/sessions/1/votes/4.json\"}]}))\n        });\n        "
     },
     "metadata": {},
     "output_type": "display_data"
    }
   ],
   "source": [
    "# ProPub\n",
    "RenderJSON(get_bill_deets(bill_id))"
   ]
  },
  {
   "cell_type": "code",
   "execution_count": 66,
   "metadata": {},
   "outputs": [
    {
     "data": {
      "text/plain": [
       "\"\\n\\nPromoting United States International Leadership in 5G Act of 2021\\n\\n\\n\\nThis bill directs the President to establish an interagency working group to provide assistance and technical expertise to enhance U.S. leadership in international bodies\\xa0that set\\xa0standards for 5th and future generations of mobile telecommunications (5G) technology, such as the International Telecommunication Union. The President shall also work to increase the participation of allies, partners, and the private sector. (International bodies develop standards for certain technologies, such as those used in wireless data transmission, to ensure interoperability between different companies' products; stakeholders, such as companies that manufacture equipment that uses such technologies or companies that hold relevant patents, typically participate in the standards-setting process.) \\n\\n\\n\\nThe interagency working group must report to Congress on\\xa0(1) its strategy to promote U.S. leadership in the standards-setting bodies relevant to 5G technology; (2) its strategy for diplomatic engagement with allies and partners to share security-risk information related to 5G; (3) its strategy for engagement with private sector communications and information service providers; and (4) China's activities in standards-setting bodies for 5G technology, including the scope and scale of such activities.\\n\\n\""
      ]
     },
     "execution_count": 66,
     "metadata": {},
     "output_type": "execute_result"
    }
   ],
   "source": [
    "from bs4 import BeautifulSoup\n",
    "\n",
    "def html_to_structured_text(html_string):\n",
    "    # Create a BeautifulSoup object from the HTML string\n",
    "    soup = BeautifulSoup(html_string, 'html.parser')\n",
    "\n",
    "    # Extract the text and create a structured text string\n",
    "    structured_text = ''\n",
    "    for tag in soup.find_all():\n",
    "        tag_name = tag.name\n",
    "        if tag_name == 'p':\n",
    "            structured_text += f'\\n\\n{tag.text}\\n\\n'\n",
    "        elif tag_name in ['h1', 'h2', 'h3', 'h4', 'h5', 'h6']:\n",
    "            structured_text += f'\\n\\n{tag.text}\\n{\"=\" * len(tag.text)}\\n\\n'\n",
    "        elif tag_name == 'ul':\n",
    "            for li in tag.find_all('li'):\n",
    "                structured_text += f'* {li.text}\\n'\n",
    "        elif tag_name == 'ol':\n",
    "            for li in tag.find_all('li'):\n",
    "                index = li.find_previous_siblings('li')\n",
    "                index = str(len(index) + 1)\n",
    "                structured_text += f'{index}. {li.text}\\n'\n",
    "    if structured_text == '':\n",
    "        return html_string\n",
    "        \n",
    "    return structured_text\n",
    "\n",
    "string = \"<p><b>Promoting United States International Leadership in 5G Act of 2021</b></p> <p>This bill directs the President to establish an interagency working group to provide assistance and technical expertise to enhance U.S. leadership in international bodies&nbsp;that set&nbsp;standards for 5th and future generations of mobile telecommunications (5G) technology, such as the International Telecommunication Union. The President shall also work to increase the participation of allies, partners, and the private sector. (International bodies develop standards for certain technologies, such as those used in wireless data transmission, to ensure interoperability between different companies' products; stakeholders, such as companies that manufacture equipment that uses such technologies or companies that hold relevant patents, typically participate in the standards-setting process.) </p> <p>The interagency working group must report to Congress on&nbsp;(1) its strategy to promote U.S. leadership in the standards-setting bodies relevant to 5G technology; (2) its strategy for diplomatic engagement with allies and partners to share security-risk information related to 5G; (3) its strategy for engagement with private sector communications and information service providers; and (4) China's activities in standards-setting bodies for 5G technology, including the scope and scale of such activities.</p>\"\n",
    "html_to_structured_text(string)"
   ]
  },
  {
   "cell_type": "code",
   "execution_count": 69,
   "metadata": {},
   "outputs": [
    {
     "data": {
      "text/plain": [
       "\"\\n\\nThis concurrent resolution condemns the October 25, 2021, coup in Sudan. It recognizes the Prime Minister and his cabinet as the constitutional leaders of Sudan's transitional government and calls for Sudan's military junta, among other things, to\\n\\n* immediately release all civilian government officials, civil society members, and other individuals detained in connection with the coup;\\n* return to constitutional rule under the transitional constitution; and \\n* lift the state of emergency, including complete restoration of all means of communication. \\n\\n\\nFinally, the concurrent resolution calls on international partners to\\n\\n*  join U.S. efforts to impose targeted sanctions on the junta and other accomplices to the coup; and\\n* suspend Sudan's participation in all regional multilateral organizations until Sudan is returned to constitutional rule under the transitional constitution.\\n\""
      ]
     },
     "execution_count": 69,
     "metadata": {},
     "output_type": "execute_result"
    }
   ],
   "source": [
    "string = \"<p>This concurrent resolution condemns the October 25, 2021, coup in Sudan. It recognizes the Prime Minister and his cabinet as the constitutional leaders of Sudan's transitional government and calls for Sudan's military junta, among other things, to</p> <ul> <li>immediately release all civilian government officials, civil society members, and other individuals detained in connection with the coup;</li> <li>return to constitutional rule under the transitional constitution; and </li> <li>lift the state of emergency, including complete restoration of all means of communication. </li> </ul> <p>Finally, the concurrent resolution calls on international partners to</p> <ul> <li> join U.S. efforts to impose targeted sanctions on the junta and other accomplices to the coup; and</li> <li>suspend Sudan's participation in all regional multilateral organizations until Sudan is returned to constitutional rule under the transitional constitution.</li> </ul>\"\n",
    "\n",
    "html_to_structured_text(string)\n"
   ]
  },
  {
   "cell_type": "code",
   "execution_count": null,
   "metadata": {},
   "outputs": [],
   "source": []
  }
 ],
 "metadata": {
  "kernelspec": {
   "display_name": "billbriefs",
   "language": "python",
   "name": "python3"
  },
  "language_info": {
   "codemirror_mode": {
    "name": "ipython",
    "version": 3
   },
   "file_extension": ".py",
   "mimetype": "text/x-python",
   "name": "python",
   "nbconvert_exporter": "python",
   "pygments_lexer": "ipython3",
   "version": "3.10.9"
  },
  "orig_nbformat": 4,
  "vscode": {
   "interpreter": {
    "hash": "091fc4e982227ae3c003fe788eedf3c07b94d006ee3a14538f20f516ed802be9"
   }
  }
 },
 "nbformat": 4,
 "nbformat_minor": 2
}
