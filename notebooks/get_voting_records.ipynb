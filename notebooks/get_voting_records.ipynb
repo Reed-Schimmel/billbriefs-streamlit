{
 "cells": [
  {
   "attachments": {},
   "cell_type": "markdown",
   "metadata": {},
   "source": [
    "```\n",
    "    def get(self, chamber, rollcall_num, session, congress=CURRENT_CONGRESS):\n",
    "        (\"Return a specific roll-call vote, \"\n",
    "         \"including a complete list of member positions\")\n",
    "        check_chamber(chamber)\n",
    "\n",
    "        path = (\"{congress}/{chamber}/sessions/{session}\"\n",
    "                \"/votes/{rollcall_num}.json\")\n",
    "        path = path.format(congress=congress, chamber=chamber,\n",
    "                           session=session, rollcall_num=rollcall_num)\n",
    "        return self.fetch(path, parse=lambda r: r['results'])\n",
    "```\n",
    "\n",
    "I need `chamber`, `rollcall_num`, `session`, and `congress` (number)"
   ]
  },
  {
   "cell_type": "code",
   "execution_count": 2,
   "metadata": {},
   "outputs": [],
   "source": [
    "import streamlit as st\n",
    "from congress import Congress\n",
    "from deta import Deta\n",
    "\n",
    "PROPUBLICA_API_KEY = st.secrets[\"PROPUBLICA_API_KEY\"];\n",
    "\n",
    "# Chamber\n",
    "SENATE = 'senate'\n",
    "HOUSE = 'house'\n",
    "BOTH = 'both' # idk if this works for everything, only votes\n",
    "\n",
    "congress = Congress(PROPUBLICA_API_KEY)"
   ]
  },
  {
   "cell_type": "code",
   "execution_count": 30,
   "metadata": {},
   "outputs": [
    {
     "data": {
      "text/plain": [
       "306"
      ]
     },
     "execution_count": 30,
     "metadata": {},
     "output_type": "execute_result"
    }
   ],
   "source": [
    "@st.cache_data\n",
    "def download_all_passed_bills(congress_num, verbose=False):\n",
    "    bills = []\n",
    "\n",
    "    page=1\n",
    "    passed_bills = congress.bills.passed(chamber=BOTH, congress=congress_num, page=1)\n",
    "    while passed_bills['num_results'] > 0:\n",
    "        if verbose:\n",
    "            print(f\"{len(bills)} downloaded\")\n",
    "\n",
    "        bills.extend(passed_bills['bills'])\n",
    "        page += 1\n",
    "        passed_bills = congress.bills.passed(chamber=BOTH, congress=congress_num, page=page)\n",
    "\n",
    "    if verbose:\n",
    "        print(f\"{len(bills)} bills downloaded from {bills[-1]['last_vote']} to {bills[0]['last_vote']}\")\n",
    "    return bills\n",
    "\n",
    "bills_117 = download_all_passed_bills(117, verbose=False)\n",
    "len(bills_117)"
   ]
  },
  {
   "cell_type": "code",
   "execution_count": null,
   "metadata": {},
   "outputs": [],
   "source": []
  }
 ],
 "metadata": {
  "kernelspec": {
   "display_name": "billbriefs",
   "language": "python",
   "name": "python3"
  },
  "language_info": {
   "codemirror_mode": {
    "name": "ipython",
    "version": 3
   },
   "file_extension": ".py",
   "mimetype": "text/x-python",
   "name": "python",
   "nbconvert_exporter": "python",
   "pygments_lexer": "ipython3",
   "version": "3.10.9"
  },
  "orig_nbformat": 4,
  "vscode": {
   "interpreter": {
    "hash": "091fc4e982227ae3c003fe788eedf3c07b94d006ee3a14538f20f516ed802be9"
   }
  }
 },
 "nbformat": 4,
 "nbformat_minor": 2
}
