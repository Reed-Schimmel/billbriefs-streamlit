{
 "cells": [
  {
   "cell_type": "code",
   "execution_count": null,
   "metadata": {},
   "outputs": [],
   "source": [
    "import re\n",
    "import json\n",
    "import openai\n",
    "import requests\n",
    "\n",
    "import streamlit as st\n",
    "\n",
    "from bs4 import BeautifulSoup\n",
    "\n",
    "from utils import RenderJSON"
   ]
  },
  {
   "cell_type": "code",
   "execution_count": null,
   "metadata": {},
   "outputs": [],
   "source": [
    "def html_to_structured_text(html_string):\n",
    "    # Create a BeautifulSoup object from the HTML string\n",
    "    soup = BeautifulSoup(html_string, 'html.parser')\n",
    "\n",
    "    # Extract the text and create a structured text string\n",
    "    structured_text = ''\n",
    "    for tag in soup.find_all():\n",
    "        tag_name = tag.name\n",
    "        if tag_name == 'p':\n",
    "            structured_text += f'\\n\\n{tag.text}\\n\\n'\n",
    "        elif tag_name in ['h1', 'h2', 'h3', 'h4', 'h5', 'h6']:\n",
    "            structured_text += f'\\n\\n{tag.text}\\n{\"=\" * len(tag.text)}\\n\\n'\n",
    "        elif tag_name == 'ul':\n",
    "            for li in tag.find_all('li'):\n",
    "                structured_text += f'* {li.text}\\n'\n",
    "        elif tag_name == 'ol':\n",
    "            for li in tag.find_all('li'):\n",
    "                index = li.find_previous_siblings('li')\n",
    "                index = str(len(index) + 1)\n",
    "                structured_text += f'{index}. {li.text}\\n'\n",
    "\n",
    "    if structured_text == '':\n",
    "        return html_string\n",
    "        \n",
    "    return structured_text\n",
    "\n",
    "def validate_bill_id(bill_id=''):\n",
    "    '''Takes ProPublica bill_id ex \"sres21-118'''\n",
    "    if bill_id is None:\n",
    "        return False\n",
    "\n",
    "    pattern = r'^(hr|s|hjres|sjres|hconres|sconres|hres|sres)(\\d+)-(\\d+)$'\n",
    "    return bool(re.match(pattern, bill_id))\n",
    "\n",
    "def get_bill_summaries_official(bill_id):\n",
    "    '''Takes ProPublica bill_id ex \"sres21-118\"\n",
    "    https://api.congress.gov/#/bill/bill_summaries\n",
    "    '''\n",
    "    if not validate_bill_id(bill_id):\n",
    "        return None\n",
    "\n",
    "    CONGRESS_API_KEY = st.secrets[\"CONGRESS_API_KEY\"]\n",
    "    # TODO: select a time for textVersion, be it specific or min/max\n",
    "\n",
    "    bill, congress = bill_id.split('-')\n",
    "    bill_type, bill_n = re.split('(\\d+)', bill)[:2]\n",
    "\n",
    "    url = f\"https://api.congress.gov/v3/bill/{congress}/{bill_type}/{bill_n}/summaries?api_key={CONGRESS_API_KEY}\"\n",
    "    response = requests.get(url)\n",
    "    if response.status_code == 200:\n",
    "        json_data = response.json()\n",
    "    else:\n",
    "        print(\"Error retrieving bill summaries. Status code:\", response.status_code)\n",
    "    return json_data"
   ]
  },
  {
   "cell_type": "code",
   "execution_count": null,
   "metadata": {},
   "outputs": [],
   "source": [
    "with open(\"../data/house_all_voting_positions.json\", 'r') as f:\n",
    "    house_all_voting_positions = json.load(f)\n",
    "\n",
    "# RenderJSON(house_all_voting_positions)"
   ]
  },
  {
   "cell_type": "code",
   "execution_count": null,
   "metadata": {},
   "outputs": [],
   "source": [
    "selected_rep_id = \"A000370\"\n",
    "\n",
    "voting_position = house_all_voting_positions[selected_rep_id][\"Passed\"][0]\n",
    "# RenderJSON(voting_position)"
   ]
  },
  {
   "cell_type": "code",
   "execution_count": null,
   "metadata": {},
   "outputs": [],
   "source": [
    "bill_summary = get_bill_summaries_official(voting_position['bill_id'])\n",
    "# RenderJSON(bill_summary)\n",
    "\n",
    "# get the version of the summary for the bill on the date of the vote.\n",
    "summary_on_date = [ bs for bs in bill_summary['summaries'] if bs['actionDate'] == voting_position['date']]\n",
    "# RenderJSON(summary_on_date)"
   ]
  },
  {
   "cell_type": "code",
   "execution_count": null,
   "metadata": {},
   "outputs": [],
   "source": [
    "bill_sum_text_pretty = html_to_structured_text(summary_on_date[0]['text'])\n",
    "print(bill_sum_text_pretty)"
   ]
  },
  {
   "attachments": {},
   "cell_type": "markdown",
   "metadata": {},
   "source": [
    "# DOING i was here"
   ]
  },
  {
   "cell_type": "code",
   "execution_count": null,
   "metadata": {},
   "outputs": [],
   "source": [
    "# Calculate how many tokens the summary is worth\n",
    "# https://platform.openai.com/docs/guides/embeddings/how-can-i-tell-how-many-tokens-a-string-has-before-i-embed-it\n",
    "# https://github.com/openai/openai-cookbook/blob/main/examples/How_to_count_tokens_with_tiktoken.ipynb\n",
    "import tiktoken"
   ]
  },
  {
   "cell_type": "code",
   "execution_count": null,
   "metadata": {},
   "outputs": [],
   "source": [
    "# # TODO: SENATE\n",
    "# with open(\"house_all_voting_positions_2021-01-03_2023-03-07.json\", 'r') as f:\n",
    "#     house_all_voting_positions = json.load(f)"
   ]
  },
  {
   "attachments": {},
   "cell_type": "markdown",
   "metadata": {},
   "source": [
    "## OpenAI API\n",
    "- https://platform.openai.com/docs/libraries/python-bindings\n",
    "- https://github.com/openai/openai-cookbook/blob/main/examples/How_to_format_inputs_to_ChatGPT_models.ipynb\n",
    "- [How_to_count_tokens_with_tiktoken.ipynb](https://github.com/openai/openai-cookbook/blob/main/examples/How_to_count_tokens_with_tiktoken.ipynb)"
   ]
  },
  {
   "cell_type": "code",
   "execution_count": null,
   "metadata": {},
   "outputs": [],
   "source": [
    "openai.api_key = st.secrets[\"OPENAI_API_KEY\"]\n",
    "\n",
    "# list models\n",
    "models = openai.Model.list()\n",
    "# RenderJSON(models)\n",
    "for m in models['data']:\n",
    "    print(m['id'])"
   ]
  },
  {
   "cell_type": "code",
   "execution_count": null,
   "metadata": {},
   "outputs": [],
   "source": [
    "model_id = 'gpt-3.5-turbo-0301'\n",
    "\n",
    "# response = openai.Completion.create(model=\"gpt-3.5-turbo\", prompt=\"Say this is a test\", temperature=0, max_tokens=7)\n",
    "# https://github.com/openai/openai-python\n",
    "completion = openai.ChatCompletion.create(model=\"gpt-3.5-turbo\", messages=[{\"role\": \"user\", \"content\": \"Hello world!\"}])\n",
    "print(completion.choices[0].message.content)"
   ]
  },
  {
   "cell_type": "code",
   "execution_count": null,
   "metadata": {},
   "outputs": [],
   "source": [
    "openai.Model"
   ]
  },
  {
   "cell_type": "code",
   "execution_count": null,
   "metadata": {},
   "outputs": [],
   "source": [
    "help(openai)"
   ]
  },
  {
   "cell_type": "code",
   "execution_count": null,
   "metadata": {},
   "outputs": [],
   "source": []
  }
 ],
 "metadata": {
  "kernelspec": {
   "display_name": "Python 3",
   "language": "python",
   "name": "python3"
  },
  "language_info": {
   "name": "python",
   "version": "3.10.6 (main, Nov 14 2022, 16:10:14) [GCC 11.3.0]"
  },
  "orig_nbformat": 4,
  "vscode": {
   "interpreter": {
    "hash": "916dbcbb3f70747c44a77c7bcd40155683ae19c65e1c03b4aa3499c5328201f1"
   }
  }
 },
 "nbformat": 4,
 "nbformat_minor": 2
}
